{
 "cells": [
  {
   "cell_type": "markdown",
   "metadata": {},
   "source": [
    "# Small Guide for Working on Alvis\n",
    "## Author: Mercedes Dalman\n",
    "## Date: 29/10 - 2024\n",
    "\n",
    "### Purpose: \n",
    "This guide will walk you through connecting to the Alvis server, launching interactive sessions, setting up environments, and running both interactive and non-interactive sessions on Alvis (using my personal account).\n",
    "\n",
    "The person following this guide is expected to have reasonable familiarity with working and connecting to a terminal. "
   ]
  },
  {
   "cell_type": "markdown",
   "metadata": {},
   "source": [
    "---"
   ]
  },
  {
   "cell_type": "markdown",
   "metadata": {},
   "source": [
    "### Resources Available:\n",
    "On alvis, I have a small compute - NAISS2024-22-698 -  and a small storage - NAISS2024-23-619 - project. The small compute has available 250 GPU-hours/month and the small storage has 2000 GB space. \n",
    "\n",
    "To see how many GPU-hours you have used, use command:"
   ]
  },
  {
   "cell_type": "code",
   "execution_count": null,
   "metadata": {},
   "outputs": [],
   "source": [
    "projinfo"
   ]
  },
  {
   "cell_type": "markdown",
   "metadata": {},
   "source": [
    "For the storage available, move to folder ~/mercedes_storage (a symlink to the small storage) and use command:"
   ]
  },
  {
   "cell_type": "code",
   "execution_count": null,
   "metadata": {},
   "outputs": [],
   "source": [
    "du -sh"
   ]
  },
  {
   "cell_type": "markdown",
   "metadata": {},
   "source": [
    "---"
   ]
  },
  {
   "cell_type": "markdown",
   "metadata": {},
   "source": [
    "# 1. Logging in to Alvis on a linux-based system:\n",
    "\n",
    "To log in to Alvis, use the following credentials:\n",
    "\n",
    "\n",
    "\n",
    "\n",
    "\n",
    "\n",
    "\n"
   ]
  },
  {
   "cell_type": "code",
   "execution_count": null,
   "metadata": {},
   "outputs": [],
   "source": [
    "Host: alvis1.c3se.chalmers.se\n",
    "Username: alinned\n",
    "Password: Q>h4=H&BxF"
   ]
  },
  {
   "cell_type": "markdown",
   "metadata": {},
   "source": [
    "I would suggest that you generate a ssh-key to not have to input\n",
    "password each time you login:\n",
    "\n",
    "In terminal, put: "
   ]
  },
  {
   "cell_type": "markdown",
   "metadata": {},
   "source": [
    "***"
   ]
  },
  {
   "cell_type": "markdown",
   "metadata": {},
   "source": [
    "## 1.2 Setting Up SSH Key for Passwordless Login\n",
    "\n",
    "**1. Generate SSH Key** (if not already created):"
   ]
  },
  {
   "cell_type": "code",
   "execution_count": null,
   "metadata": {},
   "outputs": [],
   "source": [
    "ssh-keygen -t rsa -b 4096 -f ~/.ssh/id_rsa_alvis"
   ]
  },
  {
   "cell_type": "markdown",
   "metadata": {},
   "source": [
    "**NOTE:** Leave the password prompt blank to enable passwordless access.\n",
    "\n",
    "**2. Copy SSH Key to Alvis:**"
   ]
  },
  {
   "cell_type": "code",
   "execution_count": null,
   "metadata": {},
   "outputs": [],
   "source": [
    "ssh-copy-id -i ~/.ssh/id_rsa_alvis.pub alinned@alvis1.c3se.chalmers.se"
   ]
  },
  {
   "cell_type": "markdown",
   "metadata": {},
   "source": [
    "\n",
    "\n",
    "Enter the password provided above when prompted.\n",
    "\n",
    "**3. Log in:** \n",
    "\n",
    "\n"
   ]
  },
  {
   "cell_type": "code",
   "execution_count": null,
   "metadata": {},
   "outputs": [],
   "source": [
    "ssh alvis1.c3se.chalmers.se"
   ]
  },
  {
   "cell_type": "markdown",
   "metadata": {},
   "source": [
    "After setting up, simply type ssh al... and let autocomplete finish the hostname."
   ]
  },
  {
   "cell_type": "markdown",
   "metadata": {},
   "source": [
    "---"
   ]
  },
  {
   "cell_type": "markdown",
   "metadata": {},
   "source": [
    "# 2. Launching an Interactive Session on Alvis:\n",
    "\n",
    "---\n",
    "\n",
    "## 2.1 Using Pre-Made cell2location_env:\n",
    "\n",
    "To work with cell2location, a pre-configured environment is available at:\n",
    "/mimer/NOBACKUP/groups/naiss2024-23-619\n",
    "\n",
    "\n",
    "## **Steps to Activate Environment:**\n",
    "\n",
    "**1. Load Required Modules:**"
   ]
  },
  {
   "cell_type": "code",
   "execution_count": null,
   "metadata": {},
   "outputs": [],
   "source": [
    "ml purge\n",
    "ml load PyTorch/2.1.2-foss-2023a-CUDA-12.1.1\n",
    "ml load Python/3.11.3-GCCcore-12.3.0\n",
    "ml load SciPy-bundle/2023.07-gfbf-2023a\n",
    "ml load scikit-learn/1.3.1-gfbf-2023a\n",
    "ml load matplotlib/3.7.2-gfbf-2023a\n",
    "ml load h5py/3.9.0-foss-2023a\n",
    "ml load IPython/8.14.0-GCCcore-12.3.0\n",
    "ml load JupyterLab/4.0.5-GCCcore-12.3.0\n",
    "ml load Pillow/10.0.0-GCCcore-12.3.0\n",
    "ml load plotly.py/5.16.0-GCCcore-12.3.0"
   ]
  },
  {
   "cell_type": "markdown",
   "metadata": {},
   "source": [
    "**Note:** Ensure consistent versions across modules, e.g. the GCCcore is the same (e.g. 12.3.0). \n",
    "\n",
    "If you want to update or change the GCCcore and \n",
    "is unsure which versions are supported on alvis, you can run the commmand:\n"
   ]
  },
  {
   "cell_type": "code",
   "execution_count": null,
   "metadata": {},
   "outputs": [],
   "source": [
    "ml spider <module name (e.g. PyTorch)>"
   ]
  },
  {
   "cell_type": "markdown",
   "metadata": {},
   "source": [
    "**2. Activate Virtual Environment:**"
   ]
  },
  {
   "cell_type": "code",
   "execution_count": null,
   "metadata": {},
   "outputs": [],
   "source": [
    "CUSTOM_VENV_PATH=/cephyr/users/alinned/Alvis/mercedes_storage/cell2location_env\n",
    "source $CUSTOM_VENV_PATH/bin/activate"
   ]
  },
  {
   "cell_type": "markdown",
   "metadata": {},
   "source": [
    "**3. Install Additional Packages:**"
   ]
  },
  {
   "cell_type": "code",
   "execution_count": null,
   "metadata": {},
   "outputs": [],
   "source": [
    "pip install --no-cache-dir --no-build-isolation <package_name>"
   ]
  },
  {
   "cell_type": "markdown",
   "metadata": {},
   "source": [
    "*Tip: Prefer loading packages through modules for speed and compatibility. Check availability with ml spider <package_name>.*\n",
    "\n",
    "**4. Deactivate Environment:**"
   ]
  },
  {
   "cell_type": "code",
   "execution_count": null,
   "metadata": {},
   "outputs": [],
   "source": [
    "deactivate"
   ]
  },
  {
   "cell_type": "markdown",
   "metadata": {},
   "source": [
    "---"
   ]
  },
  {
   "cell_type": "markdown",
   "metadata": {},
   "source": [
    "## 2.2 Running an Interactive Session with Slurm (cell2location_env)\n",
    "\n",
    "Alvis uses Slurm for resource allocation. For a Jupyter Notebook interactive session, use the ~/launch_jn_interactive_cell2location.sh script. \n",
    "\n",
    "**To run an interactive jupyter notebook with the cell2location_env, you use the command sbathc, as follows:**\n",
    "\n",
    "\n",
    "\n",
    "\n"
   ]
  },
  {
   "cell_type": "code",
   "execution_count": null,
   "metadata": {},
   "outputs": [],
   "source": [
    "sbatch launch_jn_transformers_cell2location.sh"
   ]
  },
  {
   "cell_type": "markdown",
   "metadata": {},
   "source": [
    "Before doing this, update the Slurm configuration after your needs.\n",
    "\n",
    "Here’s a sample of the Slurm configuration:"
   ]
  },
  {
   "cell_type": "code",
   "execution_count": null,
   "metadata": {},
   "outputs": [],
   "source": [
    "#!/bin/env bash\n",
    "#SBATCH -A NAISS2024-22-698         # Project (use \"projinfo\" to list available projects)\n",
    "#SBATCH -p alvis                    # Partition\n",
    "#SBATCH -t 0-01:00:00               # Time (days-hours:minutes:seconds)\n",
    "#SBATCH --gpus-per-node=A100:1      # GPUs and type\n",
    "#SBATCH -J JOB_NAME                 # Job name\n",
    "#SBATCH -o output_file.out          # Output file\n",
    "#SBATCH --mail-type=ALL             # Notifications\n",
    "#SBATCH --mail-user=mercedes.dalman@gu.se\n"
   ]
  },
  {
   "cell_type": "markdown",
   "metadata": {},
   "source": [
    "*Adjust settings as needed, e.g., time, GPU type, email.*\n",
    " *To see the resources available,*\n",
    "go to: https://www.c3se.chalmers.se/about/Alvis/\n",
    "\n",
    "In the file, the virtual environment cell2location_env will then be activated. \n",
    "\n",
    "To run a jupyter notebook, it is important that the module JupyterNotebook is loaded (use ml spider jupyter) to find correct version.\n",
    "In this case, a jypyter notebook will then be launched.\n",
    "\n",
    "**Launch Jupyter Notebook**"
   ]
  },
  {
   "cell_type": "code",
   "execution_count": null,
   "metadata": {},
   "outputs": [],
   "source": [
    "jupyter notebook --no-browser --ip 0.0.0.0"
   ]
  },
  {
   "cell_type": "markdown",
   "metadata": {},
   "source": [
    "*The output will appear in the output_file.out once resources are allocated.*\n",
    "\n",
    "**Note:** \n",
    "If you do not see the output_file.out immediately after running sbatch launch... then that means that you are in queue. \n",
    "\n",
    "This you can verify using:\n"
   ]
  },
  {
   "cell_type": "code",
   "execution_count": null,
   "metadata": {},
   "outputs": [],
   "source": [
    "\n",
    "squeue -u alinned"
   ]
  },
  {
   "cell_type": "markdown",
   "metadata": {},
   "source": [
    "\n",
    "If you want to cancel the session, you either use:"
   ]
  },
  {
   "cell_type": "code",
   "execution_count": null,
   "metadata": {},
   "outputs": [],
   "source": [
    "\n",
    "scancel -u alinned"
   ]
  },
  {
   "cell_type": "markdown",
   "metadata": {},
   "source": [
    "or if you want to not cancel all jobs but a specific one:"
   ]
  },
  {
   "cell_type": "code",
   "execution_count": null,
   "metadata": {},
   "outputs": [],
   "source": [
    "\n",
    "scancel jobid "
   ]
  },
  {
   "cell_type": "markdown",
   "metadata": {},
   "source": [
    "jobid you can see using squeue -u alinned."
   ]
  },
  {
   "cell_type": "markdown",
   "metadata": {},
   "source": [
    "---"
   ]
  },
  {
   "cell_type": "markdown",
   "metadata": {},
   "source": [
    "## 2.3 Accessing Jupyter Notebook in Visual Studio Code\n",
    "\n",
    "**Connect to Host:**\n",
    "\n",
    "In Visual Studio Code, click the small blue icon (lower-left corner) and select \"Connect to Host....\"\n",
    "\n",
    "Add ssh alinned@alvis1.c3se.chalmers.se if not already configured.\n",
    "\n",
    "**Open Jupyter Notebook:**\n",
    "\n",
    "Go to \"File\" > \"New File...\" > \"Jupyter Notebook\"\n",
    "\n",
    "**Connect to Existing Slurm Session:**\n",
    "\n",
    "Select “Existing Jupyter Session” and paste the URL from output_file.out (e.g., http://alvis4-14:8888/tree?token=...).\n",
    "\n",
    "(**Note:** You need to select the URL with alvis in the name (eg alvis4))\n",
    "\n",
    "To use the cell2location_env, you then select the kernel \"cell2location_env\"."
   ]
  },
  {
   "cell_type": "markdown",
   "metadata": {},
   "source": [
    "---"
   ]
  },
  {
   "cell_type": "markdown",
   "metadata": {},
   "source": [
    "# 3. Creating a Custom Virtual Environment\n",
    "To create a new environment, edit the ~/install_environment.sh script:\n"
   ]
  },
  {
   "cell_type": "markdown",
   "metadata": {},
   "source": [
    "**1. Load Required Modules:** "
   ]
  },
  {
   "cell_type": "code",
   "execution_count": null,
   "metadata": {},
   "outputs": [],
   "source": [
    "ml purge\n",
    "ml load PyTorch/2.1.2-foss-2023a-CUDA-12.1.1\n",
    "ml load Python/3.11.3-GCCcore-12.3.0\n",
    "# (repeat for other modules)"
   ]
  },
  {
   "cell_type": "markdown",
   "metadata": {},
   "source": [
    "Ensure consistent versions across modules, e.g. the GCCcore is the same (e.g. 12.3.0). (See \"Steps to Activate Environmnet\" above.)"
   ]
  },
  {
   "cell_type": "markdown",
   "metadata": {},
   "source": [
    "\n",
    "**2.Edit Environment Path:**\n",
    "\n",
    "- Update CUSTOM_VENV_PATH to a new name. \n",
    "\n",
    "**Note:** Install the package in the small storage folder as I did with cell2location_env - there is not a lot of space in home.\n",
    "\n",
    "**3. Uncomment Creation Line:**"
   ]
  },
  {
   "cell_type": "code",
   "execution_count": null,
   "metadata": {},
   "outputs": [],
   "source": [
    "virtualenv --system-site-packages $CUSTOM_VENV_PATH"
   ]
  },
  {
   "cell_type": "markdown",
   "metadata": {},
   "source": [
    "**4. Create Environment Using the Bash Script install_environment.sh:**"
   ]
  },
  {
   "cell_type": "code",
   "execution_count": null,
   "metadata": {},
   "outputs": [],
   "source": [
    "./install_environment.sh"
   ]
  },
  {
   "cell_type": "markdown",
   "metadata": {},
   "source": [
    "**5. Install Packages:** *See \"Steps to Activate Environmnet\" above.*\n",
    "\n",
    "**6. Register Environment as Jupyter Kernel:**"
   ]
  },
  {
   "cell_type": "code",
   "execution_count": null,
   "metadata": {},
   "outputs": [],
   "source": [
    "python -m ipykernel install --user --name=MY_ENV_NAME --display-name=\"MY_KERNEL_NAME\""
   ]
  },
  {
   "cell_type": "markdown",
   "metadata": {},
   "source": [
    "After these steps, you can launch an interactive jupyter session in the same manner as described for cell2location above. \n",
    "\n",
    "**Note:** Please make a copy of the launch_jn_.. script for your own environmnent."
   ]
  },
  {
   "cell_type": "markdown",
   "metadata": {},
   "source": [
    "---"
   ]
  },
  {
   "cell_type": "markdown",
   "metadata": {},
   "source": [
    "# 4. Running Non-Interactive Sessions\n",
    "For non-interactive sessions, modify your launch_jn_... script to:\n",
    "\n",
    "**1. Comment out the Jupyter Notebook line:**"
   ]
  },
  {
   "cell_type": "code",
   "execution_count": null,
   "metadata": {},
   "outputs": [],
   "source": [
    "# jupyter notebook --no-browser --ip 0.0.0.0"
   ]
  },
  {
   "cell_type": "markdown",
   "metadata": {},
   "source": [
    "**2. Uncomment the line to run a notebook directly:**"
   ]
  },
  {
   "cell_type": "code",
   "execution_count": null,
   "metadata": {},
   "outputs": [],
   "source": [
    "ipython -c \"%run SOME_NOTEBOOK.ipynb\""
   ]
  },
  {
   "cell_type": "markdown",
   "metadata": {},
   "source": [
    "**3. Alternatively, Convert Notebook to Python Script:**"
   ]
  },
  {
   "cell_type": "code",
   "execution_count": null,
   "metadata": {},
   "outputs": [],
   "source": [
    "jupyter nbconvert --to python SOME_NOTEBOOK.ipynb && python SOME_NOTEBOOK.py"
   ]
  },
  {
   "cell_type": "markdown",
   "metadata": {},
   "source": [
    "**Note:** When doing this, please be aware of and modify the SBATCH configurations before running scripts. "
   ]
  }
 ],
 "metadata": {
  "language_info": {
   "name": "python"
  }
 },
 "nbformat": 4,
 "nbformat_minor": 2
}
